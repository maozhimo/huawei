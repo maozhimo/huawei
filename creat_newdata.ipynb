{
 "cells": [
  {
   "cell_type": "code",
   "execution_count": 1,
   "metadata": {},
   "outputs": [],
   "source": [
    "import pandas as pd\n",
    "import numpy as np\n",
    "%matplotlib inline\n",
    "import seaborn as sns\n",
    "import matplotlib.pyplot as plt\n",
    "import os\n",
    "from sklearn.preprocessing import LabelEncoder\n",
    "from scipy.sparse import csr_matrix, hstack\n",
    "from sklearn.linear_model import LogisticRegression\n",
    "from sklearn.model_selection import StratifiedKFold\n",
    "from sklearn.metrics import log_loss\n",
    "from sklearn.metrics import accuracy_score\n",
    "import gc \n",
    "datadir = './input'"
   ]
  },
  {
   "cell_type": "code",
   "execution_count": 2,
   "metadata": {},
   "outputs": [
    
   ],
   "source": [
    "user_app_actived = pd.read_csv(os.path.join(datadir,'user_app_actived.csv'), header=None,names=['uId','appId'],dtype={'uId': np.str})\n",
    "user_app_actived.head()"
   ]
  },
  {
   "cell_type": "code",
   "execution_count": null,
   "metadata": {},
   "outputs": [],
   "source": [
    "user_app_actived.shape"
   ]
  },
  {
   "cell_type": "code",
   "execution_count": null,
   "metadata": {},
   "outputs": [],
   "source": [
    "user_app_actived = pd.read_csv(os.path.join(datadir,'user_app_actived.csv'), header=None, names=['uId','appId'],\n",
    "                            iterator=True, low_memory=False)\n",
    "                print('start')\n",
    "for i in range(30):\n",
    "        try:\n",
    "                temp = user_app_actived.get_chunk(100000)\n",
    "                print(i)\n",
    "                df1=temp.drop(columns=['appId'],axis=1)\n",
    "                df1=df1.join(temp['appId'].str.split('#',expand=True).stack().reset_index(level=1,drop=True).rename('appId'))\n",
    "                df1.to_csv(os.path.join('./output','uId_appId_OneByOne.csv'), mode='a',index=False,header=False)\n",
    "        except StopIteration:\n",
    "                print('break')\n",
    "                break\n"
   ]
  },
  {
   "cell_type": "code",
   "execution_count": null,
   "metadata": {},
   "outputs": [],
   "source": []
  },
  {
   "cell_type": "code",
   "execution_count": null,
   "metadata": {},
   "outputs": [],
   "source": [
    "s=['appId',]\n",
    "#删除多余行\n",
    "df1=user_app_actived.drop(columns=s,axis=1)\n",
    "for x in s:\n",
    "    df1=df1.join(user_app_actived[x].str.split('#',expand=True).stack().reset_index(level=1,drop=True).rename(x))\n",
    "df1=df1.reset_index(drop=True)"
   ]
  },
  {
   "cell_type": "code",
   "execution_count": null,
   "metadata": {},
   "outputs": [],
   "source": [
    "#uId_appId_OneByOne\n",
    "uId_appId_OneByOne = pd.read_csv(os.path.join('./output','uId_appId_OneByOne.csv'), header=None, \n",
    "                                 names=['uId','appId'],iterator=True, low_memory=False)\n",
    "for i in range(1):\n",
    "        try:\n",
    "                temp = uId_appId_OneByOne.get_chunk(100000)\n",
    "        except StopIteration:\n",
    "                print('ending..........')\n",
    "                break\n",
    "                \n",
    "temp['category_label'] = LabelEncoder().fit(temp.appId).transform(temp.appId)\n",
    "temp.head()"
   ]
  },
  {
   "cell_type": "code",
   "execution_count": null,
   "metadata": {},
   "outputs": [],
   "source": [
    "uId_appId_OneByOne = pd.read_csv(os.path.join('./output','uId_appId_OneByOne.csv')\n",
    "                                 , header=None\n",
    "                                 ,names=['uId','appId']\n",
    "                                 ,dtype={'uId': np.str}\n",
    "                                 ,index_col = 'uId'\n",
    "                                )\n",
    "uId_appId_OneByOne['category_label'] = LabelEncoder().fit(uId_appId_OneByOne.appId).transform(uId_appId_OneByOne.appId)\n",
    "uId_appId_OneByOne.head()"
   ]
  },
  {
   "cell_type": "code",
   "execution_count": null,
   "metadata": {},
   "outputs": [],
   "source": [
    "uId_appId_OneByOne.shape"
   ]
  },
  {
   "cell_type": "code",
   "execution_count": null,
   "metadata": {},
   "outputs": [],
   "source": [
    "df_train = pd.read_csv(os.path.join(datadir,'age_train.csv')\n",
    "                       ,header=None\n",
    "                       , names=['uId','age_group']\n",
    "                       ,dtype = {'uId':np.str}\n",
    "                       ,index_col = 'uId')\n",
    "#df_train.head()\n",
    "df_test = pd.read_csv(os.path.join(datadir,'age_test.csv')\n",
    "                      ,names=['uId']\n",
    "                      ,dtype = {'uId':np.str}\n",
    "                      ,index_col = 'uId')"
   ]
  },
  {
   "cell_type": "code",
   "execution_count": null,
   "metadata": {},
   "outputs": [],
   "source": [
    "df_train['trainrow'] = np.arange(df_train.shape[0])\n",
    "df_test['testrow'] = np.arange(df_test.shape[0])"
   ]
  },
  {
   "cell_type": "code",
   "execution_count": null,
   "metadata": {},
   "outputs": [],
   "source": []
  },
  {
   "cell_type": "code",
   "execution_count": null,
   "metadata": {},
   "outputs": [],
   "source": []
  },
  {
   "cell_type": "code",
   "execution_count": null,
   "metadata": {},
   "outputs": [],
   "source": [
    "uId_app = uId_appId_OneByOne.merge(df_train,on='uId')"
   ]
  },
  {
   "cell_type": "code",
   "execution_count": null,
   "metadata": {},
   "outputs": [],
   "source": [
    "uId_app.drop(columns=['appId'],inplace=True)"
   ]
  },
  {
   "cell_type": "code",
   "execution_count": null,
   "metadata": {},
   "outputs": [],
   "source": []
  },
  {
   "cell_type": "code",
   "execution_count": null,
   "metadata": {},
   "outputs": [],
   "source": [
    "uId_app.shape"
   ]
  },
  {
   "cell_type": "code",
   "execution_count": null,
   "metadata": {},
   "outputs": [],
   "source": [
    "#特征值生成\n",
    "Xtr_app = csr_matrix((np.ones(uId_app.shape[0]), (uId_app.trainrow, uId_app.category_label)), \n",
    "                      shape=(df_train.shape[0],9401))                 shape=(gatest.shape[0],napps))\n",
    "Xtr_app.shape\n",
    "#print('Apps data: train shape {}, test shape {}'.format(Xtr_app.shape, Xte_app.shape))"
   ]
  },
  {
   "cell_type": "code",
   "execution_count": null,
   "metadata": {},
   "outputs": [],
   "source": [
    "Xtr_app"
   ]
  },
  {
   "cell_type": "code",
   "execution_count": null,
   "metadata": {},
   "outputs": [],
   "source": [
    "uId_app_test = uId_appId_OneByOne.merge(df_test,on='uId')\n",
    "uId_app_test.head(10)"
   ]
  },
  {
   "cell_type": "code",
   "execution_count": null,
   "metadata": {},
   "outputs": [],
   "source": [
    "uId_app_test.drop(columns=['appId'],inplace=True)\n",
    "uId_app_test.head(10)"
   ]
  },
  {
   "cell_type": "code",
   "execution_count": null,
   "metadata": {},
   "outputs": [],
   "source": [
    "uId_app_test.isnull().sum()"
   ]
  },
  {
   "cell_type": "code",
   "execution_count": null,
   "metadata": {},
   "outputs": [],
   "source": [
    "Xte_app = csr_matrix((np.ones(uId_app_test.shape[0]), (uId_app_test.testrow, uId_app_test.category_label)), \n",
    "                      shape=(df_test.shape[0],9401))"
   ]
  },
  {
   "cell_type": "code",
   "execution_count": null,
   "metadata": {},
   "outputs": [],
   "source": []
  },
  {
   "cell_type": "code",
   "execution_count": null,
   "metadata": {},
   "outputs": [],
   "source": [
    "#保存特征\n",
    "from scipy import sparse\n",
    "sparse.save_npz('Xtr_app9401.npz', Xtr_app)  #保存\n",
    "sparse.save_npz('Xte_app9401.npz', Xte_app)  #保存"
   ]
  },
  {
   "cell_type": "code",
   "execution_count": null,
   "metadata": {},
   "outputs": [],
   "source": []
  },
  {
   "cell_type": "code",
   "execution_count": 41,
   "metadata": {},
   "outputs": [
    {
     "data": {
      "text/html": [
       "<div>\n",
       "<style scoped>\n",
       "    .dataframe tbody tr th:only-of-type {\n",
       "        vertical-align: middle;\n",
       "    }\n",
       "\n",
       "    .dataframe tbody tr th {\n",
       "        vertical-align: top;\n",
       "    }\n",
       "\n",
       "    .dataframe thead th {\n",
       "        text-align: right;\n",
       "    }\n",
       "</style>\n",
       "<table border=\"1\" class=\"dataframe\">\n",
       "  <thead>\n",
       "    <tr style=\"text-align: right;\">\n",
       "      <th></th>\n",
       "      <th>count</th>\n",
       "      <th>unique</th>\n",
       "      <th>top</th>\n",
       "      <th>freq</th>\n",
       "      <th>mean</th>\n",
       "      <th>std</th>\n",
       "      <th>min</th>\n",
       "      <th>25%</th>\n",
       "      <th>50%</th>\n",
       "      <th>75%</th>\n",
       "      <th>max</th>\n",
       "    </tr>\n",
       "  </thead>\n",
       "  <tbody>\n",
       "    <tr>\n",
       "      <th>appId</th>\n",
       "      <td>101803186</td>\n",
       "      <td>9401</td>\n",
       "      <td>a00289791</td>\n",
       "      <td>2339048</td>\n",
       "      <td>NaN</td>\n",
       "      <td>NaN</td>\n",
       "      <td>NaN</td>\n",
       "      <td>NaN</td>\n",
       "      <td>NaN</td>\n",
       "      <td>NaN</td>\n",
       "      <td>NaN</td>\n",
       "    </tr>\n",
       "    <tr>\n",
       "      <th>category_label</th>\n",
       "      <td>1.01803e+08</td>\n",
       "      <td>NaN</td>\n",
       "      <td>NaN</td>\n",
       "      <td>NaN</td>\n",
       "      <td>4987.15</td>\n",
       "      <td>2398.25</td>\n",
       "      <td>0</td>\n",
       "      <td>3375</td>\n",
       "      <td>5215</td>\n",
       "      <td>6752</td>\n",
       "      <td>9400</td>\n",
       "    </tr>\n",
       "  </tbody>\n",
       "</table>\n",
       "</div>"
      ],
      "text/plain": [
       "                      count unique        top     freq     mean      std  min  \\\n",
       "appId             101803186   9401  a00289791  2339048      NaN      NaN  NaN   \n",
       "category_label  1.01803e+08    NaN        NaN      NaN  4987.15  2398.25    0   \n",
       "\n",
       "                 25%   50%   75%   max  \n",
       "appId            NaN   NaN   NaN   NaN  \n",
       "category_label  3375  5215  6752  9400  "
      ]
     },
     "execution_count": 41,
     "metadata": {},
     "output_type": "execute_result"
    }
   ],
   "source": [
    "uId_appId_OneByOne.describe(include='all').T"
   ]
  },
  {
   "cell_type": "code",
   "execution_count": null,
   "metadata": {
    "collapsed": true
   },
   "outputs": [],
   "source": []
  }
 ],
 "metadata": {
  "anaconda-cloud": {},
  "kernelspec": {
   "display_name": "Python 2",
   "language": "python",
   "name": "python2"
  },
  "language_info": {
   "codemirror_mode": {
    "name": "ipython",
    "version": 2
   },
   "file_extension": ".py",
   "mimetype": "text/x-python",
   "name": "python",
   "nbconvert_exporter": "python",
   "pygments_lexer": "ipython2",
   "version": "2.7.16"
  }
 },
 "nbformat": 4,
 "nbformat_minor": 1
}
